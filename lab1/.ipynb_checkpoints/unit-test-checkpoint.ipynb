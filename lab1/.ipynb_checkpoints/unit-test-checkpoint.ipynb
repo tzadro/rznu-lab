{
 "cells": [
  {
   "cell_type": "code",
   "execution_count": 5,
   "metadata": {},
   "outputs": [],
   "source": [
    "import requests"
   ]
  },
  {
   "cell_type": "code",
   "execution_count": 6,
   "metadata": {
    "collapsed": true
   },
   "outputs": [],
   "source": [
    "songs = [\n",
    "    {\n",
    "        'id': 1,\n",
    "        'title': '505',\n",
    "        'artist': 'Arctic Monkeys'\n",
    "    },\n",
    "    {\n",
    "        'id': 2,\n",
    "        'title': 'All These Things That I\\'ve Done',\n",
    "        'artist': 'The Killers'\n",
    "    },\n",
    "    {\n",
    "        'id': 3,\n",
    "        'title': 'American Prayer',\n",
    "        'artist': 'The Doors'\n",
    "    }\n",
    "]\n",
    "\n",
    "playlists = [\n",
    "    {\n",
    "        'id': 1,\n",
    "        'title': 'Arctic Monkeys',\n",
    "        'owner': 'Tvrtko', \n",
    "        'songs': [\n",
    "            {\n",
    "                'id': 1,\n",
    "                'title': '505',\n",
    "                'artist': 'Arctic Monkeys'\n",
    "            }\n",
    "        ]\n",
    "    },\n",
    "    {\n",
    "        'id': 2,\n",
    "        'title': 'Oldies',\n",
    "        'owner': 'Retro Steve', \n",
    "        'songs': [\n",
    "            {\n",
    "                'id': 3,\n",
    "                'title': 'American Prayer',\n",
    "                'artist': 'The Doors'\n",
    "            }\n",
    "        ]\n",
    "    },\n",
    "    {\n",
    "        'id': 3,\n",
    "        'title': 'Favs',\n",
    "        'owner': 'Babs',\n",
    "        'songs': [\n",
    "            {\n",
    "                'id': 2,\n",
    "                'title': 'All These Things That I\\'ve Done',\n",
    "                'artist': 'The Killers'\n",
    "            },\n",
    "            {\n",
    "                'id': 3,\n",
    "                'title': 'American Prayer',\n",
    "                'artist': 'The Doors'\n",
    "            }\n",
    "        ]\n",
    "    }\n",
    "]"
   ]
  },
  {
   "cell_type": "code",
   "execution_count": 46,
   "metadata": {},
   "outputs": [
    {
     "name": "stdout",
     "output_type": "stream",
     "text": [
      "Status code is 401: True\n",
      "Status code is 200: True\n",
      "Playlists OK: False\n",
      "Playlist 2 OK: False\n",
      "Put OK: 400\n",
      "Changed playlist 2 OK: False\n"
     ]
    }
   ],
   "source": [
    "api_url = 'http://localhost:5000/api'\n",
    "\n",
    "r = requests.get(api_url + '/playlists')\n",
    "print('Status code is 401:', r.status_code == 401)\n",
    "\n",
    "r = requests.get(api_url + '/playlists', auth=('admin', 'admin'))\n",
    "print('Status code is 200:', r.status_code == 200)\n",
    "print('Playlists OK:', r.json()['playlists'] == playlists)\n",
    "\n",
    "r = requests.get(api_url + '/playlists/2', auth=('admin', 'admin'))\n",
    "print('Playlist 2 OK:', r.json()['playlist'] == playlists[1])\n",
    "\n",
    "playlists[1]['owner'] = 'Old Pete'\n",
    "r = requests.put(api_url + '/playlists/2', data={\"TEST\": \"TEST\"}, auth=('admin', 'admin'))\n",
    "print('Put OK:', r.status_code)\n",
    "r = requests.get(api_url + '/playlists/2', auth=('admin', 'admin'))\n",
    "print('Changed playlist 2 OK:', r.json()['playlist'] == playlists[1])"
   ]
  },
  {
   "cell_type": "code",
   "execution_count": null,
   "metadata": {
    "collapsed": true
   },
   "outputs": [],
   "source": []
  }
 ],
 "metadata": {
  "kernelspec": {
   "display_name": "Python 3",
   "language": "python3",
   "name": "python3"
  },
  "language_info": {
   "codemirror_mode": {
    "name": "ipython",
    "version": 3
   },
   "file_extension": ".py",
   "mimetype": "text/x-python",
   "name": "python",
   "nbconvert_exporter": "python",
   "pygments_lexer": "ipython3",
   "version": "3.6.3"
  }
 },
 "nbformat": 4,
 "nbformat_minor": 2
}
